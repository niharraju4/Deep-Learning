{
 "cells": [
  {
   "cell_type": "code",
   "execution_count": 1,
   "metadata": {},
   "outputs": [],
   "source": [
    "import numpy as np\n",
    "import torch"
   ]
  },
  {
   "cell_type": "markdown",
   "metadata": {},
   "source": [
    "## Using NUMPY"
   ]
  },
  {
   "cell_type": "markdown",
   "metadata": {},
   "source": [
    "the @ symbol represents the matrix multiplication operator"
   ]
  },
  {
   "cell_type": "code",
   "execution_count": 2,
   "metadata": {},
   "outputs": [
    {
     "name": "stdout",
     "output_type": "stream",
     "text": [
      "[[1.61 1.61 0.68 1.04 1.43]\n",
      " [1.63 1.51 0.79 1.23 1.32]\n",
      " [1.12 1.28 0.28 0.74 0.99]]\n",
      " \n",
      "[[1.   0.93 0.82 1.38]\n",
      " [0.95 0.97 0.74 0.63]\n",
      " [0.16 0.14 0.07 0.22]\n",
      " [0.8  0.82 0.56 0.48]\n",
      " [0.75 0.72 0.6  0.89]\n",
      " [1.03 0.97 0.86 1.38]\n",
      " [1.   1.01 0.92 0.78]]\n",
      " \n",
      "[[1.61 1.63 1.12]\n",
      " [1.61 1.51 1.28]\n",
      " [0.68 0.79 0.28]\n",
      " [1.04 1.23 0.74]\n",
      " [1.43 1.32 0.99]]\n",
      " \n"
     ]
    },
    {
     "data": {
      "text/plain": [
       "(None, None)"
      ]
     },
     "execution_count": 2,
     "metadata": {},
     "output_type": "execute_result"
    }
   ],
   "source": [
    "# Create random matrices\n",
    "A = np.random.rand(3, 4)  # 3x4 matrix with random values\n",
    "B = np.random.rand(4, 5)  # 4x5 matrix with random values\n",
    "C = np.random.rand(7, 3)  # 7x3 matrix with random values (corrected dimensions)\n",
    "\n",
    "# Try some matrix multiplications\n",
    "print(np.round(A @ B, 2)), print(' ')  # 3x5 matrix multiplication\n",
    "print(np.round(C @ A, 2)), print(' ')  # 7x4 matrix multiplication\n",
    "print(np.round(B.T @ A.T, 2)), print(' ')  # 5x3 matrix multiplication\n",
    "#print(np.round(A @ C.T, 2)), print(' ')  # 3x7 matrix multiplication"
   ]
  },
  {
   "cell_type": "code",
   "execution_count": 7,
   "metadata": {},
   "outputs": [
    {
     "name": "stdout",
     "output_type": "stream",
     "text": [
      "tensor([[0.5600, 0.5500, 0.9500, 1.0100, 1.5000],\n",
      "        [0.7400, 0.4900, 1.3200, 1.0100, 1.6200],\n",
      "        [0.6400, 0.6700, 1.1900, 1.2700, 1.5900]])\n",
      " \n",
      "tensor([[0.9300, 0.7900, 0.5000, 0.3100],\n",
      "        [0.8600, 0.6600, 0.5800, 0.2300],\n",
      "        [0.6800, 0.6600, 0.4100, 0.2200],\n",
      "        [0.5600, 0.4600, 0.2300, 0.2100],\n",
      "        [0.6000, 0.6700, 0.3000, 0.2300],\n",
      "        [1.0500, 0.9500, 0.4400, 0.4100],\n",
      "        [1.5000, 0.9800, 0.8000, 0.4700]])\n",
      " \n",
      "tensor([[0.5600, 0.7400, 0.6400],\n",
      "        [0.5500, 0.4900, 0.6700],\n",
      "        [0.9500, 1.3200, 1.1900],\n",
      "        [1.0100, 1.0100, 1.2700],\n",
      "        [1.5000, 1.6200, 1.5900]])\n",
      " \n"
     ]
    },
    {
     "data": {
      "text/plain": [
       "(None, None)"
      ]
     },
     "execution_count": 7,
     "metadata": {},
     "output_type": "execute_result"
    }
   ],
   "source": [
    "# Create some random matrices\n",
    "A_torch = torch.rand(3, 4)  # 3x4 matrix with random values\n",
    "B_torch = torch.rand(4, 5)  # 4x5 matrix with random values\n",
    "C1_torch = torch.rand(7, 3)  # 7x3 matrix with random values (corrected dimensions)\n",
    "C2_torch = torch.rand(3, 7)  # 3x7 matrix with random values\n",
    "\n",
    "# Try some matrix multiplications with PyTorch\n",
    "print(torch.round(A_torch @ B_torch, decimals=2)), print(' ')  # 3x5 matrix multiplication\n",
    "print(torch.round(C1_torch @ A_torch, decimals=2)), print(' ')  # 7x4 matrix multiplication\n",
    "print(torch.round(B_torch.T @ A_torch.T, decimals=2)), print(' ')  # 5x3 matrix multiplication\n",
    "#print(torch.round(A_torch @ C2_torch.T, decimals=2)), print(' ')  # 3x7 matrix multiplication"
   ]
  },
  {
   "cell_type": "code",
   "execution_count": null,
   "metadata": {},
   "outputs": [],
   "source": []
  }
 ],
 "metadata": {
  "kernelspec": {
   "display_name": "Deeplearning",
   "language": "python",
   "name": "python3"
  },
  "language_info": {
   "codemirror_mode": {
    "name": "ipython",
    "version": 3
   },
   "file_extension": ".py",
   "mimetype": "text/x-python",
   "name": "python",
   "nbconvert_exporter": "python",
   "pygments_lexer": "ipython3",
   "version": "3.11.3"
  }
 },
 "nbformat": 4,
 "nbformat_minor": 2
}
