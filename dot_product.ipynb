{
 "cells": [
  {
   "cell_type": "code",
   "execution_count": 1,
   "metadata": {},
   "outputs": [],
   "source": [
    "#import libarary\n",
    "import numpy as np\n",
    "import torch"
   ]
  },
  {
   "cell_type": "markdown",
   "metadata": {},
   "source": [
    "## Using Numpy"
   ]
  },
  {
   "cell_type": "code",
   "execution_count": 2,
   "metadata": {},
   "outputs": [
    {
     "name": "stdout",
     "output_type": "stream",
     "text": [
      "Dot product via numpy:  70\n",
      "70\n"
     ]
    }
   ],
   "source": [
    "nv1 = np.array([1, 2, 3, 4])\n",
    "nv2 = np.array([5, 6, 7, 8])\n",
    "\n",
    "#dot product via function in numpy\n",
    "print(\"Dot product via numpy: \", np.dot(nv1, nv2))\n",
    "\n",
    "#dot product via computation in numpy\n",
    "print(np.sum(nv1 * nv2)) # element-wise multiplication and then sum))"
   ]
  },
  {
   "cell_type": "markdown",
   "metadata": {},
   "source": [
    "## Using Pytorch\n"
   ]
  },
  {
   "cell_type": "code",
   "execution_count": 3,
   "metadata": {},
   "outputs": [
    {
     "name": "stdout",
     "output_type": "stream",
     "text": [
      "tensor(70)\n",
      "tensor(70)\n"
     ]
    }
   ],
   "source": [
    "#create a vector\n",
    "tv1 = torch.tensor([1, 2, 3, 4])\n",
    "tv2 = torch.tensor([5, 6, 7, 8])\n",
    "\n",
    "#dot product via function in torch\n",
    "print(torch.dot(tv1, tv2)) # torch dot product function\n",
    "\n",
    "#dot product via computation in torch\n",
    "print(torch.sum(tv1 * tv2)) # element-wise multiplication and then sum"
   ]
  }
 ],
 "metadata": {
  "kernelspec": {
   "display_name": "Deeplearning",
   "language": "python",
   "name": "python3"
  },
  "language_info": {
   "codemirror_mode": {
    "name": "ipython",
    "version": 3
   },
   "file_extension": ".py",
   "mimetype": "text/x-python",
   "name": "python",
   "nbconvert_exporter": "python",
   "pygments_lexer": "ipython3",
   "version": "3.11.3"
  }
 },
 "nbformat": 4,
 "nbformat_minor": 2
}
