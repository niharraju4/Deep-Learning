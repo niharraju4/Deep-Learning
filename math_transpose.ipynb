{
 "cells": [
  {
   "cell_type": "markdown",
   "metadata": {},
   "source": [
    "#IMPORT LIBRARIERS\n"
   ]
  },
  {
   "cell_type": "code",
   "execution_count": 1,
   "metadata": {},
   "outputs": [],
   "source": [
    "import numpy as np\n",
    "import torch "
   ]
  },
  {
   "cell_type": "code",
   "execution_count": 2,
   "metadata": {},
   "outputs": [
    {
     "name": "stdout",
     "output_type": "stream",
     "text": [
      "[[1 2 3 4]]\n",
      "\n",
      "[[1]\n",
      " [2]\n",
      " [3]\n",
      " [4]]\n",
      "\n",
      "[[1 2 3 4]]\n"
     ]
    }
   ],
   "source": [
    "#create a vector using numpy and convert it to a PyTorch tensor\n",
    "nv = np.array([[1,2,3,4]]) # 2D array (1x4)])\n",
    "print(nv), print('')\n",
    "\n",
    "#transpose it\n",
    "print(nv.T), print('')\n",
    "\n",
    "#transpose the transpose\n",
    "nvT = nv.T\n",
    "print(nvT.T)# this will be the same as nv since it's a 1D array, no change in shape\n"
   ]
  },
  {
   "cell_type": "code",
   "execution_count": 4,
   "metadata": {},
   "outputs": [
    {
     "name": "stdout",
     "output_type": "stream",
     "text": [
      "[[1 2 3]\n",
      " [4 5 6]]\n",
      "\n",
      "[[1 4]\n",
      " [2 5]\n",
      " [3 6]]\n",
      "\n",
      "[[1 2 3]\n",
      " [4 5 6]]\n"
     ]
    }
   ],
   "source": [
    "#repeat the matrix\n",
    "nM = np.array([[1,2,3],[4,5,6]]) # 2D array (2x3)\n",
    "print(nM), print('')\n",
    "\n",
    "#Transpose the matrix nM\n",
    "nM_T = nM.T\n",
    "print(nM_T), print('')\n",
    "\n",
    "# Transpose the transpose of nM, should be the same as original nM\n",
    "nM_T_T = nM_T.T\n",
    "print(nM_T_T) # this should be the same as nM"
   ]
  },
  {
   "cell_type": "markdown",
   "metadata": {},
   "source": [
    "##  Using Pytorch\n"
   ]
  },
  {
   "cell_type": "code",
   "execution_count": 6,
   "metadata": {},
   "outputs": [
    {
     "name": "stdout",
     "output_type": "stream",
     "text": [
      "tensor([[1, 2, 3, 4]])\n",
      " \n",
      "tensor([[1],\n",
      "        [2],\n",
      "        [3],\n",
      "        [4]])\n",
      " \n",
      "tensor([[1, 2, 3, 4]])\n"
     ]
    }
   ],
   "source": [
    "tv = torch.tensor([[1,2,3,4]])\n",
    "print(tv), print(' ')\n",
    "\n",
    "#transpose the tensor tv\n",
    "print(tv.T), print(' ') # this will transpose the tensor, changing shape from (1,4) to (4,1)\n",
    "\n",
    "#transpose the transpose of tv, should be the same as original tv\n",
    "tv_T = tv.T\n",
    "print(tv_T.T) # this should be the same as original tv, shape (1,4)"
   ]
  },
  {
   "cell_type": "code",
   "execution_count": 7,
   "metadata": {},
   "outputs": [
    {
     "name": "stdout",
     "output_type": "stream",
     "text": [
      "tensor([[1, 2, 3],\n",
      "        [4, 5, 6]])\n",
      "\n",
      "tensor([[1, 4],\n",
      "        [2, 5],\n",
      "        [3, 6]])\n",
      "\n",
      "tensor([[1, 2, 3],\n",
      "        [4, 5, 6]])\n"
     ]
    }
   ],
   "source": [
    "#repeat the matrix\n",
    "tM = torch.tensor([[1,2,3],[4,5,6]]) # 2D array (2x3)\n",
    "print(tM), print('')\n",
    "\n",
    "#Transpose the matrix nM\n",
    "tM_T = tM.T\n",
    "print(tM_T), print('')\n",
    "\n",
    "# Transpose the transpose of nM, should be the same as original nM\n",
    "tM_T_T = tM_T.T\n",
    "print(tM_T_T) # this should be the same as nM"
   ]
  },
  {
   "cell_type": "code",
   "execution_count": 8,
   "metadata": {},
   "outputs": [
    {
     "name": "stdout",
     "output_type": "stream",
     "text": [
      "Variable nv is of type <class 'numpy.ndarray'> with shape (1, 4)\n",
      "Variable tv is of type <class 'torch.Tensor'> with shape torch.Size([1, 4])\n",
      "Variable nM is of type <class 'numpy.ndarray'> with shape (2, 3)\n",
      "Variable tM is of type <class 'torch.Tensor'> with shape torch.Size([2, 3])\n"
     ]
    }
   ],
   "source": [
    "#examine the data types and shapes\n",
    "print(f'Variable nv is of type {type(nv)} with shape {nv.shape}')\n",
    "print(f'Variable tv is of type {type(tv)} with shape {tv.shape}')\n",
    "print(f'Variable nM is of type {type(nM)} with shape {nM.shape}')\n",
    "print(f'Variable tM is of type {type(tM)} with shape {tM.shape}')"
   ]
  }
 ],
 "metadata": {
  "kernelspec": {
   "display_name": "Deeplearning",
   "language": "python",
   "name": "python3"
  },
  "language_info": {
   "codemirror_mode": {
    "name": "ipython",
    "version": 3
   },
   "file_extension": ".py",
   "mimetype": "text/x-python",
   "name": "python",
   "nbconvert_exporter": "python",
   "pygments_lexer": "ipython3",
   "version": "3.11.3"
  }
 },
 "nbformat": 4,
 "nbformat_minor": 2
}
